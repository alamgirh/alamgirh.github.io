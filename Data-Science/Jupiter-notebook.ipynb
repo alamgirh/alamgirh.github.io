{
 "cells": [
  {
   "cell_type": "markdown",
   "metadata": {},
   "source": [
    "\n",
    "# How to use Jupyter Notebook?\n",
    "\n",
    "Are you interested to use <a href=\"http://jupyter.org/\">Jupyter Notebook</a>? Jupyter Notebook is a web application for writing code, mathematical equations, showing figures, plots, and writing texts. Using Jupyter Notebook we can analyze and visualize data, numerical simulation, mathematical and statistical modeling, machine learning model, and many more. This is one of the essential tools for data scientists. This notebook supports more than 40 programming languages including Python, Matlab, R, Julia. In addition, we can easily prepare documents and presentation slides using Jupyter Notebook where we can accommodate programming code, mathematical equations using LaTeX, showing images and plots. If Jupyter Notebook is not installed on your computer or laptop no worries. You can easily use Jupyter Notebook using Google Drive. From your Google Drive create a Google Colaboratory file. This is your first Jupyter Notebook file. In this Jupyter Notebook, you can find a Code box which is using Python kernel. If you don't know Python no worries you can easily replace your calculator with a Jupyter code box. Easily you can do addition, subtraction, multiplication, division. For example, write 5+10 in the box and press SHIFT+ENTER. See it works as a calculator! It's fun and it's easy to use, isn't it?"
   ]
  },
  {
   "cell_type": "code",
   "execution_count": 1,
   "metadata": {},
   "outputs": [
    {
     "data": {
      "text/plain": [
       "15"
      ]
     },
     "execution_count": 1,
     "metadata": {},
     "output_type": "execute_result"
    }
   ],
   "source": [
    "5+10 # Press Shift + Enter"
   ]
  },
  {
   "cell_type": "code",
   "execution_count": 2,
   "metadata": {},
   "outputs": [
    {
     "data": {
      "text/plain": [
       "5.454545454545454"
      ]
     },
     "execution_count": 2,
     "metadata": {},
     "output_type": "execute_result"
    }
   ],
   "source": [
    "60.0/11.0"
   ]
  },
  {
   "cell_type": "markdown",
   "metadata": {},
   "source": [
    "You can replace your scientific calculator using Jupyer Notebook. At first we need to import Python math library. Then your Jupyter Notebook is good to run as a scientific calculator. "
   ]
  },
  {
   "cell_type": "code",
   "execution_count": 15,
   "metadata": {},
   "outputs": [],
   "source": [
    "from math import *"
   ]
  },
  {
   "cell_type": "code",
   "execution_count": 16,
   "metadata": {},
   "outputs": [
    {
     "data": {
      "text/plain": [
       "3.141592653589793"
      ]
     },
     "execution_count": 16,
     "metadata": {},
     "output_type": "execute_result"
    }
   ],
   "source": [
    "pi"
   ]
  },
  {
   "cell_type": "code",
   "execution_count": 17,
   "metadata": {},
   "outputs": [
    {
     "data": {
      "text/plain": [
       "0.7071067811865475"
      ]
     },
     "execution_count": 17,
     "metadata": {},
     "output_type": "execute_result"
    }
   ],
   "source": [
    "sin(pi/4)"
   ]
  },
  {
   "cell_type": "markdown",
   "metadata": {},
   "source": [
    "You can change the code option to <a href='https://github.com/adam-p/markdown-here/wiki/Markdown-Cheatsheet'> Markdown</a>. After moving to markdown option, you can write, \n",
    "\n",
    "```# Hello World```\n",
    "\n",
    "then press SHIFT+ENTER. This the first heading that you wrote in Jupyter! \n",
    "\n"
   ]
  },
  {
   "cell_type": "markdown",
   "metadata": {},
   "source": [
    "In the Markdown option you can easily write mathematical equations, for instance you can write\n",
    "\n",
    "```LaTeX\n",
    "$y = ax^2+bx+c$\n",
    "```\n",
    "and press SHIFT+ENTER. Now you can see the equation  \n",
    "$y = ax^2+bx+c$. Now, you are writing LaTeX in Jupyter. Isn't it cool! Here is a link for writing equations, table, bullet points. \n",
    "- [exercise link](http://nbviewer.jupyter.org/github/alamgirh/alamgirh.github.io/blob/master/blog/LectureNotes-jupyter.ipynb)\n"
   ]
  },
  {
   "cell_type": "markdown",
   "metadata": {},
   "source": [
    "You can do coding using Jupyter Notebook. Here I am writing a piece of code for drawing the graph of quadratic function."
   ]
  },
  {
   "cell_type": "code",
   "execution_count": 18,
   "metadata": {},
   "outputs": [
    {
     "data": {
      "image/png": "[encoded data removed]",
      "text/plain": [
       "<Figure size 432x288 with 1 Axes>"
      ]
     },
     "metadata": {
      "needs_background": "light"
     },
     "output_type": "display_data"
    }
   ],
   "source": [
    "import matplotlib.pyplot as plt\n",
    "import numpy as np\n",
    "\n",
    "x = np.linspace(-3, 3, 100)\n",
    "\n",
    "def f(x,a,b,c):\n",
    "   return a*x**2+b*x+c;\n",
    "\n",
    "def vertex(a,b,c):\n",
    "   x0 = -b/(2.0*a)\n",
    "   y0 = c-b*b/(4.0*a)\n",
    "   return [x0, y0];\n",
    "\n",
    "plt.plot(x, f(x,1,1,1), label='$y=x^{2}+x+1$',color='red')\n",
    "plt.plot(x, f(x,1,1,-2), label='$y=x^{2}+x-2$',color='green')\n",
    "plt.plot(x, f(x,1,-2,1), label='$y=x^{2}-2x+1$',color='blue')\n",
    "a1, b1 = vertex(1,1,1)\n",
    "plt.plot([a1],[b1], 'ro')\n",
    "a2, b2 = vertex(1,1,-2)\n",
    "plt.plot([a2],[b2], 'go')\n",
    "a3, b3 = vertex(1,-2,1)\n",
    "plt.plot([a3],[b3], 'bo')\n",
    "\n",
    "plt.axis('equal')\n",
    "plt.xlabel('x-axis')\n",
    "plt.ylabel('y-axis')\n",
    "plt.axhline(0, color='black')\n",
    "plt.axvline(0, color='black')\n",
    "plt.title(\"Quadratic Functions\")\n",
    "plt.annotate('(0, 0)', xy=(0, 0), xytext=(.1, -.3))\n",
    "plt.axis([-3, 3, -3, 3])\n",
    "plt.legend(bbox_to_anchor=(1, .4))\n",
    "plt.show()"
   ]
  },
  {
   "cell_type": "markdown",
   "metadata": {},
   "source": [
    "## Resources\n",
    "- A Nature article about Jupyter Notebook. \n",
    " - http://www.nature.com/news/ipython-interactive-demo-7.21492?article=1.16261\n",
    "- You can use Jupyter Notebook using the Nature Journal link: \n",
    " - http://www.nature.com/news/ipython-interactive-demo-7.21492\n",
    "- [exercise link](http://nbviewer.jupyter.org/github/alamgirh/alamgirh.github.io/blob/master/blog/LectureNotes-jupyter.ipynb)\n"
   ]
  }
 ],
 "metadata": {
  "kernelspec": {
   "display_name": "Python 3",
   "language": "python",
   "name": "python3"
  },
  "language_info": {
   "codemirror_mode": {
    "name": "ipython",
    "version": 3
   },
   "file_extension": ".py",
   "mimetype": "text/x-python",
   "name": "python",
   "nbconvert_exporter": "python",
   "pygments_lexer": "ipython3",
   "version": "3.8.3"
  }
 },
 "nbformat": 4,
 "nbformat_minor": 4
}
